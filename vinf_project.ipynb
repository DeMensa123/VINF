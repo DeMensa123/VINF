{
 "cells": [
  {
   "cell_type": "code",
   "execution_count": 1,
   "metadata": {},
   "outputs": [],
   "source": [
    "import findspark\n",
    "findspark.init()\n",
    "import pyspark\n",
    "import re\n",
    "import json\n",
    "import pysolr\n",
    "import datetime\n",
    "from pyspark.sql import SparkSession\n",
    "from pyspark import SparkContext\n",
    "import pyspark.sql\n",
    "from pyspark.sql.types import StructType\n",
    "from pyspark.sql.types import StructField\n",
    "from pyspark.sql.types import StringType\n",
    "from pyspark.sql import SQLContext\n",
    "import sys"
   ]
  },
  {
   "cell_type": "code",
   "execution_count": 2,
   "metadata": {},
   "outputs": [],
   "source": [
    "spark = SparkSession.builder \\\n",
    "    .master('local[*]') \\\n",
    "    .appName(\"FreebasePeople\") \\\n",
    "    .getOrCreate()"
   ]
  },
  {
   "cell_type": "code",
   "execution_count": 3,
   "metadata": {},
   "outputs": [],
   "source": [
    "# input_file = \"freebase-head-1000000\"\n",
    "# input_file = \"freebase-head-10000000\"\n",
    "input_file = \"freebase-head-100000000\"\n",
    "freebase = spark.sparkContext.textFile(input_file)"
   ]
  },
  {
   "cell_type": "code",
   "execution_count": 4,
   "metadata": {},
   "outputs": [],
   "source": [
    "re_name = '(\\/[gm]\\..+\\t<http:\\/\\/rdf\\.freebase\\.com\\/ns\\/type\\.object\\.name>\\t\\\".*\\\"@en)'\n",
    "re_alias = '(\\/[gm]\\..+\\t<http:\\/\\/rdf\\.freebase\\.com\\/ns\\/common\\.topic\\.alias>\\t\\\".*\\\"@en)'\n",
    "re_birth = '(\\/[gm]\\..+\\t<http:\\/\\/rdf\\.freebase\\.com\\/ns\\/people\\.person\\.date_of_birth>\\t)'\n",
    "re_death = '(\\/[gm]\\..+\\t<http:\\/\\/rdf\\.freebase\\.com\\/ns\\/people\\.deceased_person\\.date_of_death>\\t)'"
   ]
  },
  {
   "cell_type": "code",
   "execution_count": 5,
   "metadata": {},
   "outputs": [],
   "source": [
    "people = freebase \\\n",
    "    .filter(lambda x: re.search(re_name,x) or re.search(re_alias,x) or re.search(re_birth,x) or re.search(re_death,x)) \\\n",
    "    .distinct() \\\n",
    "    .map(lambda x: re.sub('(http\\:\\/\\/rdf.freebase.com\\/ns\\/)|(\\^\\^.*\\.)|(\\@.*\\.)|\\<|\\>|\\\"',\"\",x)) \\\n",
    "    .map(lambda x: x.split('\\t')) "
   ]
  },
  {
   "cell_type": "code",
   "execution_count": 6,
   "metadata": {},
   "outputs": [],
   "source": [
    "# people.take(20)"
   ]
  },
  {
   "cell_type": "code",
   "execution_count": 7,
   "metadata": {},
   "outputs": [],
   "source": [
    "schema = StructType([StructField('subject', StringType(), True),\n",
    "                     StructField('predicate', StringType(), True),\n",
    "                     StructField('object', StringType(), True, metadata = {\"maxlength\":2048})])"
   ]
  },
  {
   "cell_type": "code",
   "execution_count": 8,
   "metadata": {},
   "outputs": [],
   "source": [
    "names = spark.createDataFrame(people.filter(lambda x: \"type.object.name\" in x[1]), schema)\n",
    "aliases = spark.createDataFrame(people.filter(lambda x: \"common.topic.alias\" in x[1]), schema)\n",
    "births = spark.createDataFrame(people.filter(lambda x: \"people.person.date_of_birth\" in x[1]), schema)\n",
    "deaths = spark.createDataFrame(people.filter(lambda x: \"people.deceased_person.date_of_death\" in x[1]), schema)"
   ]
  },
  {
   "cell_type": "code",
   "execution_count": null,
   "metadata": {},
   "outputs": [],
   "source": [
    "# names.show()"
   ]
  },
  {
   "cell_type": "code",
   "execution_count": 9,
   "metadata": {},
   "outputs": [],
   "source": [
    "# pomenovanie tabuliek\n",
    "names.registerTempTable(\"names\")\n",
    "aliases.registerTempTable(\"aliases\")\n",
    "births.registerTempTable(\"births\")\n",
    "deaths.registerTempTable(\"deaths\")"
   ]
  },
  {
   "cell_type": "code",
   "execution_count": 10,
   "metadata": {},
   "outputs": [],
   "source": [
    "sql_context = SQLContext(spark.sparkContext)"
   ]
  },
  {
   "cell_type": "code",
   "execution_count": 11,
   "metadata": {},
   "outputs": [],
   "source": [
    "sql = sql_context.sql(\"\"\"\n",
    "select names.object as name, \n",
    "ifnull(aliases.object, '-') as alias,\n",
    "ifnull(cast(births.object as date), (cast(deaths.object as date) - 100*365) ) as birth,\n",
    "ifnull(cast(deaths.object as date), (cast(births.object as date) + 100*365) ) as death\n",
    "from names\n",
    "left join births on names.subject = births.subject\n",
    "left join deaths on names.subject = deaths.subject\n",
    "left join aliases on names.subject = aliases.subject\n",
    "where births.object is not null or deaths.object is not null\n",
    "\"\"\")"
   ]
  },
  {
   "cell_type": "code",
   "execution_count": null,
   "metadata": {},
   "outputs": [],
   "source": [
    "# sql.show(20)"
   ]
  },
  {
   "cell_type": "code",
   "execution_count": 12,
   "metadata": {},
   "outputs": [],
   "source": [
    "# n = 10\n",
    "# n = 100\n",
    "n = 1000\n",
    "# result_files = \"filteredPeople_1\"\n",
    "# result_files = \"filteredPeople_10\"\n",
    "result_files = \"filteredPeople_100\""
   ]
  },
  {
   "cell_type": "code",
   "execution_count": null,
   "metadata": {},
   "outputs": [],
   "source": [
    "sql.repartition(n).write.format('com.databricks.spark.csv') \\\n",
    "    .option(\"mapreduce.fileoutputcommitter.marksuccessfuljobs\",\"false\") \\\n",
    "    .save(result_files, header = 'true')"
   ]
  },
  {
   "cell_type": "code",
   "execution_count": null,
   "metadata": {},
   "outputs": [],
   "source": [
    "# sql.coalesce(3).toJSON().saveAsTextFile('jsonfiles')"
   ]
  },
  {
   "cell_type": "code",
   "execution_count": null,
   "metadata": {},
   "outputs": [],
   "source": [
    "# sql.write.format(\"org.apache.spark.sql.json\").mode(\"overwrite\").options(header=\"true\",sep=\"\\t\").json('outpath', lineSep=\",\")"
   ]
  },
  {
   "cell_type": "code",
   "execution_count": null,
   "metadata": {},
   "outputs": [],
   "source": []
  },
  {
   "cell_type": "code",
   "execution_count": null,
   "metadata": {},
   "outputs": [],
   "source": [
    "from os import listdir\n",
    "import os\n",
    "from os.path import isfile, join\n",
    "\n",
    "readPath = result_files\n",
    "writePath = result_files + '_csv'\n",
    "os.mkdir(writePath)\n",
    "\n",
    "file_list = [f for f in listdir(readPath)]\n",
    "\n",
    "for i in file_list:\n",
    "    print(i)\n",
    "    filename, file_extension = os.path.splitext(i)\n",
    "    reg = '(\\.[\\w]+-[\\w]+)|([\\w]+-[\\w]+)'\n",
    "    result = re.match(reg, filename).group()\n",
    "    if file_extension == '.csv':\n",
    "        filename = filename.split('-')[1]\n",
    "        os.rename(readPath + '/' + i, writePath + \"/\" + result + file_extension)"
   ]
  },
  {
   "cell_type": "code",
   "execution_count": null,
   "metadata": {},
   "outputs": [],
   "source": []
  },
  {
   "cell_type": "code",
   "execution_count": null,
   "metadata": {},
   "outputs": [],
   "source": []
  },
  {
   "cell_type": "code",
   "execution_count": 13,
   "metadata": {},
   "outputs": [],
   "source": [
    "mysolr = pysolr.Solr('http://localhost:8983/solr/freebase_people_100/')"
   ]
  },
  {
   "cell_type": "code",
   "execution_count": null,
   "metadata": {},
   "outputs": [],
   "source": [
    "# mysolr.delete(q='*', commit=True)"
   ]
  },
  {
   "cell_type": "code",
   "execution_count": null,
   "metadata": {},
   "outputs": [],
   "source": [
    "# mysolr.add(file)"
   ]
  },
  {
   "cell_type": "code",
   "execution_count": 45,
   "metadata": {},
   "outputs": [
    {
     "data": {
      "text/plain": [
       "([{'name': ['Yūto Takahama'],\n",
       "   'alias': ['-'],\n",
       "   'birth': ['1996-08-08'],\n",
       "   'death': ['2096-07-14'],\n",
       "   'id': '967a33a1-3c35-45e2-9d3b-20dd7861b689',\n",
       "   '_version_': 1684171459796140045}],\n",
       " [{'name': ['Louise Bénédicte de Bourbon, Duchess of Maine'],\n",
       "   'alias': ['Louise Bénédicte de Bourbon'],\n",
       "   'birth': ['1676-11-08'],\n",
       "   'death': ['1753-01-23'],\n",
       "   'id': 'b00b7df6-99b8-4211-b0cc-70d11e343ff7',\n",
       "   '_version_': 1684171215111979009},\n",
       "  {'name': ['Louise Hoffsten'],\n",
       "   'alias': ['Hoffsten, Louise'],\n",
       "   'birth': ['1965-09-06'],\n",
       "   'death': ['2065-08-12'],\n",
       "   'id': '77a8c9f9-7723-49fb-96b4-3720c4000021',\n",
       "   '_version_': 1684171354258014209},\n",
       "  {'name': ['Louise Ellman'],\n",
       "   'alias': ['Louise Ellman MP'],\n",
       "   'birth': ['1945-11-14'],\n",
       "   'death': ['2045-10-20'],\n",
       "   'id': '0e987a44-ad67-4edf-8b42-a39b27779d4a',\n",
       "   '_version_': 1684171358099996679},\n",
       "  {'name': ['Louise Wright'],\n",
       "   'alias': ['-'],\n",
       "   'birth': ['1846-01-01'],\n",
       "   'death': ['1915-01-01'],\n",
       "   'id': '2164df66-51af-4f93-b237-4f7fcd9db522',\n",
       "   '_version_': 1684171360455098407},\n",
       "  {'name': ['Louise Troy'],\n",
       "   'alias': ['Louise Tory'],\n",
       "   'birth': ['1933-11-09'],\n",
       "   'death': ['1994-05-05'],\n",
       "   'id': '77f1951d-8bad-4739-8ac4-fa97c490de02',\n",
       "   '_version_': 1684171363333439493},\n",
       "  {'name': ['Louise Henry'],\n",
       "   'alias': ['Jessouise Heiman'],\n",
       "   'birth': ['1911-06-14'],\n",
       "   'death': ['2011-12-12'],\n",
       "   'id': '89e700c5-a8b0-46c8-bcca-3cc609e8b8f7',\n",
       "   '_version_': 1684171363333439497},\n",
       "  {'name': ['Louise Orth'],\n",
       "   'alias': ['The Biograph Blonde'],\n",
       "   'birth': ['1893-03-22'],\n",
       "   'death': ['1993-02-26'],\n",
       "   'id': 'b6dde178-06ce-483f-9ef9-8f070037a383',\n",
       "   '_version_': 1684171290516127758},\n",
       "  {'name': ['Louise de Bourbon'],\n",
       "   'alias': ['-'],\n",
       "   'birth': ['1603-02-02'],\n",
       "   'death': ['1637-01-01'],\n",
       "   'id': '2b380186-33fc-479b-abca-35ec210fb16a',\n",
       "   '_version_': 1684171294511202315},\n",
       "  {'name': ['Louise Henry'],\n",
       "   'alias': ['Jessie Louise Heiman'],\n",
       "   'birth': ['1911-06-14'],\n",
       "   'death': ['2011-12-12'],\n",
       "   'id': '7cdf64e9-7251-49d6-a741-b65c118aff08',\n",
       "   '_version_': 1684171337425223706},\n",
       "  {'name': ['Louise Ellman'],\n",
       "   'alias': ['Louise Joyce Ellman'],\n",
       "   'birth': ['1945-11-14'],\n",
       "   'death': ['2045-10-20'],\n",
       "   'id': '1e593e97-feff-461f-9354-be86d88e28fb',\n",
       "   '_version_': 1684171345014816777}])"
      ]
     },
     "execution_count": 45,
     "metadata": {},
     "output_type": "execute_result"
    }
   ],
   "source": [
    "person_name_1 = 'Takahama'\n",
    "person_name_2 = 'Louise Hoffsten'\n",
    "\n",
    "query_1 = 'name:*' + person_name_1 + '* OR alias:*' + person_name_1 + '*'\n",
    "query_2 = 'name:*' + person_name_2 + '* OR alias:*' + person_name_1 + '*'\n",
    "# print(q)\n",
    "result_1 = mysolr.search(query_1)\n",
    "result_2 = mysolr.search(query_2)\n",
    "list(result_1), list(result_2)"
   ]
  },
  {
   "cell_type": "code",
   "execution_count": 49,
   "metadata": {},
   "outputs": [
    {
     "name": "stdout",
     "output_type": "stream",
     "text": [
      "Yūto Takahama, -, 1996-08-08, 2096-07-14\n",
      "Louise Bénédicte de Bourbon, Duchess of Maine, Louise Bénédicte de Bourbon, 1676-11-08, 1753-01-23\n",
      "Louise Hoffsten, Hoffsten, Louise, 1965-09-06, 2065-08-12\n",
      "Louise Ellman, Louise Ellman MP, 1945-11-14, 2045-10-20\n",
      "Louise Wright, -, 1846-01-01, 1915-01-01\n",
      "Louise Troy, Louise Tory, 1933-11-09, 1994-05-05\n",
      "Louise Henry, Jessouise Heiman, 1911-06-14, 2011-12-12\n",
      "Louise Orth, The Biograph Blonde, 1893-03-22, 1993-02-26\n",
      "Louise de Bourbon, -, 1603-02-02, 1637-01-01\n",
      "Louise Henry, Jessie Louise Heiman, 1911-06-14, 2011-12-12\n",
      "Louise Ellman, Louise Joyce Ellman, 1945-11-14, 2045-10-20\n"
     ]
    }
   ],
   "source": [
    "for line in result_1:\n",
    "    person_1, alias_1, dob_1, dod_1 = str(line['name'][0]), str(line['alias'][0]), line['birth'][0], line['death'][0]\n",
    "    print(person_1 + \", \" + alias_1 + \", \" + dob_1 + \", \" + dod_1)\n",
    "    \n",
    "for line in result_2:\n",
    "    person_2, alias_2, dob_2, dod_2 = str(line['name'][0]), str(line['alias'][0]), line['birth'][0], line['death'][0]\n",
    "    print(person_2 + \", \" + alias_2 + \", \" + dob_2 + \", \" + dod_2)\n"
   ]
  },
  {
   "cell_type": "code",
   "execution_count": 47,
   "metadata": {},
   "outputs": [],
   "source": [
    "def getDifference(dob_1, dod_1, dob_2, dod_2):\n",
    "    if dod_1 >= dob_2 and dob_1 <= dod_2:\n",
    "        return True\n",
    "    return False"
   ]
  },
  {
   "cell_type": "code",
   "execution_count": 50,
   "metadata": {},
   "outputs": [
    {
     "name": "stdout",
     "output_type": "stream",
     "text": [
      "OsobyYūto Takahama a Louise Ellman sa mohli stretnut.\n"
     ]
    }
   ],
   "source": [
    "meet = getDifference(dob_1, dod_1, dob_2, dod_2)\n",
    "if meet:\n",
    "    print(\"Osoby\" + person_1 +\" a \" + person_2 + \" sa mohli stretnut.\")\n",
    "else:\n",
    "    print(\"Osoby\" + person_1 +\" a \" + person_2 + \" sa nemohli stretnut.\")"
   ]
  },
  {
   "cell_type": "code",
   "execution_count": null,
   "metadata": {},
   "outputs": [],
   "source": []
  }
 ],
 "metadata": {
  "kernelspec": {
   "display_name": "Python 3",
   "language": "python",
   "name": "python3"
  },
  "language_info": {
   "codemirror_mode": {
    "name": "ipython",
    "version": 3
   },
   "file_extension": ".py",
   "mimetype": "text/x-python",
   "name": "python",
   "nbconvert_exporter": "python",
   "pygments_lexer": "ipython3",
   "version": "3.8.3"
  }
 },
 "nbformat": 4,
 "nbformat_minor": 4
}

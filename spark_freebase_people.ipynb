{
 "cells": [
  {
   "cell_type": "code",
   "execution_count": 17,
   "metadata": {},
   "outputs": [],
   "source": [
    "import findspark\n",
    "findspark.init()\n",
    "import pyspark\n",
    "import datetime\n",
    "from SPARQLWrapper import SPARQLWrapper, JSON, TURTLE, N3, CSV, XML"
   ]
  },
  {
   "cell_type": "code",
   "execution_count": 2,
   "metadata": {},
   "outputs": [],
   "source": [
    "sc = pyspark.SparkContext(\"local[*]\",appName = \"Freebase_people\")"
   ]
  },
  {
   "cell_type": "code",
   "execution_count": 3,
   "metadata": {},
   "outputs": [],
   "source": [
    "subor = \"freebase-head-10000000\""
   ]
  },
  {
   "cell_type": "code",
   "execution_count": 4,
   "metadata": {},
   "outputs": [],
   "source": [
    "osoby = sc.textFile(subor).filter(lambda x: 'type.object.name' in x or 'common.topic.alias' in x or 'people.person.date_of_birth' in x or 'people.deceased_person.date_of_death' in x).distinct()"
   ]
  },
  {
   "cell_type": "code",
   "execution_count": 19,
   "metadata": {},
   "outputs": [
    {
     "data": {
      "text/plain": [
       "['<http://rdf.freebase.com/ns/base.collectives.collective_member>\\t<http://rdf.freebase.com/ns/type.object.name>\\t\"Члены коллектива\"@ru\\t.',\n",
       " '<http://rdf.freebase.com/ns/base.collectives.collective_member>\\t<http://rdf.freebase.com/ns/type.object.name>\\t\"Člen spolku\"@sk\\t.',\n",
       " '<http://rdf.freebase.com/ns/base.crmbase.developer>\\t<http://rdf.freebase.com/ns/type.object.name>\\t\"developer\"@en\\t.',\n",
       " '<http://rdf.freebase.com/ns/base.horsefacts.tack>\\t<http://rdf.freebase.com/ns/type.object.name>\\t\"마구\"@ko\\t.',\n",
       " '<http://rdf.freebase.com/ns/base.horsefacts.tack>\\t<http://rdf.freebase.com/ns/type.object.name>\\t\"ιπποσκευή\"@el\\t.',\n",
       " '<http://rdf.freebase.com/ns/base.mediaasset.provider.parent>\\t<http://rdf.freebase.com/ns/type.object.name>\\t\"Parent\"@en\\t.',\n",
       " '<http://rdf.freebase.com/ns/base.myevents.project_meeting>\\t<http://rdf.freebase.com/ns/type.object.name>\\t\"Spotkanie w sprawie projektu\"@pl\\t.',\n",
       " '<http://rdf.freebase.com/ns/base.playgirlmanoftheyear.topic>\\t<http://rdf.freebase.com/ns/type.object.name>\\t\"Topic\"@en\\t.',\n",
       " '<http://rdf.freebase.com/ns/base.researchlocations.research_topic>\\t<http://rdf.freebase.com/ns/type.object.name>\\t\"Θέμα έρευνας\"@el\\t.',\n",
       " '<http://rdf.freebase.com/ns/base.researchlocations.research_topic>\\t<http://rdf.freebase.com/ns/type.object.name>\\t\"Temat badań\"@pl\\t.',\n",
       " '<http://rdf.freebase.com/ns/book.interviewer>\\t<http://rdf.freebase.com/ns/type.object.name>\\t\"Entrevistador\"@es-419\\t.',\n",
       " '<http://rdf.freebase.com/ns/book.interviewer>\\t<http://rdf.freebase.com/ns/type.object.name>\\t\"聞き手\"@ja\\t.',\n",
       " '<http://rdf.freebase.com/ns/book.interviewer>\\t<http://rdf.freebase.com/ns/type.object.name>\\t\"인터뷰 진행자\"@ko\\t.',\n",
       " '<http://rdf.freebase.com/ns/event.disaster>\\t<http://rdf.freebase.com/ns/type.object.name>\\t\"فاجعه\"@fa\\t.',\n",
       " '<http://rdf.freebase.com/ns/g.112yfxf28>\\t<http://rdf.freebase.com/ns/common.topic.alias>\\t\"Yuko Ootaki\"@en\\t.',\n",
       " '<http://rdf.freebase.com/ns/g.113qbgpm2>\\t<http://rdf.freebase.com/ns/people.person.date_of_birth>\\t\"1968-04-10\"^^<http://www.w3.org/2001/XMLSchema#date>\\t.',\n",
       " '<http://rdf.freebase.com/ns/g.119pfy3js>\\t<http://rdf.freebase.com/ns/people.person.date_of_birth>\\t\"1952-10-17\"^^<http://www.w3.org/2001/XMLSchema#date>\\t.',\n",
       " '<http://rdf.freebase.com/ns/g.11b5v29kyk>\\t<http://rdf.freebase.com/ns/people.person.date_of_birth>\\t\"1822-04-22\"^^<http://www.w3.org/2001/XMLSchema#date>\\t.',\n",
       " '<http://rdf.freebase.com/ns/g.11b6377dz8>\\t<http://rdf.freebase.com/ns/people.person.date_of_birth>\\t\"1428\"^^<http://www.w3.org/2001/XMLSchema#gYear>\\t.',\n",
       " '<http://rdf.freebase.com/ns/g.11b66gnszy>\\t<http://rdf.freebase.com/ns/people.person.date_of_birth>\\t\"1419\"^^<http://www.w3.org/2001/XMLSchema#gYear>\\t.',\n",
       " '<http://rdf.freebase.com/ns/g.11b6_p5czs>\\t<http://rdf.freebase.com/ns/people.person.date_of_birth>\\t\"1923-07-11\"^^<http://www.w3.org/2001/XMLSchema#date>\\t.',\n",
       " '<http://rdf.freebase.com/ns/g.11b6b95788>\\t<http://rdf.freebase.com/ns/people.person.date_of_birth>\\t\"1431\"^^<http://www.w3.org/2001/XMLSchema#gYear>\\t.',\n",
       " '<http://rdf.freebase.com/ns/g.11b6gspsbz>\\t<http://rdf.freebase.com/ns/people.person.date_of_birth>\\t\"1875-08-26\"^^<http://www.w3.org/2001/XMLSchema#date>\\t.',\n",
       " '<http://rdf.freebase.com/ns/g.11b6znk5yy>\\t<http://rdf.freebase.com/ns/people.person.date_of_birth>\\t\"1859\"^^<http://www.w3.org/2001/XMLSchema#gYear>\\t.',\n",
       " '<http://rdf.freebase.com/ns/g.11b724jwht>\\t<http://rdf.freebase.com/ns/people.person.date_of_birth>\\t\"1902-08-16\"^^<http://www.w3.org/2001/XMLSchema#date>\\t.',\n",
       " '<http://rdf.freebase.com/ns/g.11b73wclpf>\\t<http://rdf.freebase.com/ns/type.object.name>\\t\"195\"@en\\t.',\n",
       " '<http://rdf.freebase.com/ns/g.11b7_kq3xp>\\t<http://rdf.freebase.com/ns/type.object.name>\\t\"Elevator Room\"@en\\t.',\n",
       " '<http://rdf.freebase.com/ns/g.11b7_krfqt>\\t<http://rdf.freebase.com/ns/type.object.name>\\t\"Las botas picuadas\"@en\\t.',\n",
       " '<http://rdf.freebase.com/ns/g.11b7_ms928>\\t<http://rdf.freebase.com/ns/type.object.name>\\t\"Hannover\"@en\\t.',\n",
       " '<http://rdf.freebase.com/ns/g.11b7kgz1yk>\\t<http://rdf.freebase.com/ns/people.person.date_of_birth>\\t\"1777-04-12\"^^<http://www.w3.org/2001/XMLSchema#date>\\t.',\n",
       " '<http://rdf.freebase.com/ns/g.11b7xsfkj4>\\t<http://rdf.freebase.com/ns/type.object.name>\\t\"Carly Humphries\"@en\\t.',\n",
       " '<http://rdf.freebase.com/ns/g.11b80lkl6m>\\t<http://rdf.freebase.com/ns/type.object.name>\\t\"Flinch\"@en\\t.',\n",
       " '<http://rdf.freebase.com/ns/g.11b81rr9bw>\\t<http://rdf.freebase.com/ns/type.object.name>\\t\"Strain\"@en\\t.',\n",
       " '<http://rdf.freebase.com/ns/g.11b81s850y>\\t<http://rdf.freebase.com/ns/type.object.name>\\t\"大漁恵比寿節\"@ja\\t.',\n",
       " '<http://rdf.freebase.com/ns/g.11b82179__>\\t<http://rdf.freebase.com/ns/type.object.name>\\t\"Cold Weather Blues\"@en\\t.',\n",
       " '<http://rdf.freebase.com/ns/g.11b821dzty>\\t<http://rdf.freebase.com/ns/type.object.name>\\t\"Dreams That End Like This\"@en\\t.',\n",
       " '<http://rdf.freebase.com/ns/g.11b821fv4h>\\t<http://rdf.freebase.com/ns/type.object.name>\\t\"危・機・一・髪\"@ja\\t.',\n",
       " '<http://rdf.freebase.com/ns/g.11b821mj00>\\t<http://rdf.freebase.com/ns/type.object.name>\\t\"Partita no. 3 in A minor, BWV 827: Burlesca\"@fr\\t.',\n",
       " '<http://rdf.freebase.com/ns/g.11b821q13x>\\t<http://rdf.freebase.com/ns/type.object.name>\\t\"Hello Again\"@en\\t.',\n",
       " '<http://rdf.freebase.com/ns/g.11b821tcfy>\\t<http://rdf.freebase.com/ns/type.object.name>\\t\"Follow\"@en\\t.',\n",
       " '<http://rdf.freebase.com/ns/g.11b821xnn_>\\t<http://rdf.freebase.com/ns/type.object.name>\\t\"琥珀の月\"@ja\\t.',\n",
       " '<http://rdf.freebase.com/ns/g.11b82262pt>\\t<http://rdf.freebase.com/ns/type.object.name>\\t\"The Es Have It\"@en\\t.',\n",
       " '<http://rdf.freebase.com/ns/g.11b8228r4y>\\t<http://rdf.freebase.com/ns/type.object.name>\\t\"Just You Wait and See\"@en\\t.',\n",
       " '<http://rdf.freebase.com/ns/g.11b822d6jp>\\t<http://rdf.freebase.com/ns/type.object.name>\\t\"Randee Jean\"@en\\t.',\n",
       " '<http://rdf.freebase.com/ns/g.11b822j0tn>\\t<http://rdf.freebase.com/ns/type.object.name>\\t\"I’m Getting Good at Missing You\"@en\\t.',\n",
       " '<http://rdf.freebase.com/ns/g.11b87p9fcc>\\t<http://rdf.freebase.com/ns/type.object.name>\\t\"Malaika\"@en\\t.',\n",
       " '<http://rdf.freebase.com/ns/g.11b87p9fkn>\\t<http://rdf.freebase.com/ns/type.object.name>\\t\"Shhhh\"@en\\t.',\n",
       " '<http://rdf.freebase.com/ns/g.11b8879nzz>\\t<http://rdf.freebase.com/ns/type.object.name>\\t\"Gorilla Hug (Nicolas Jaar remix)\"@en\\t.',\n",
       " '<http://rdf.freebase.com/ns/g.11b888wbhw>\\t<http://rdf.freebase.com/ns/type.object.name>\\t\"背中のWING (off vocal ver.)\"@ja\\t.',\n",
       " '<http://rdf.freebase.com/ns/g.11b8893c0q>\\t<http://rdf.freebase.com/ns/type.object.name>\\t\"Sleepy Lagoon\"@en\\t.',\n",
       " '<http://rdf.freebase.com/ns/g.11b88b7nbh>\\t<http://rdf.freebase.com/ns/type.object.name>\\t\"He\\'s Been Waiting for the Storm (Mysteria Show 2007)\"@en\\t.',\n",
       " '<http://rdf.freebase.com/ns/g.11b88b7nd1>\\t<http://rdf.freebase.com/ns/type.object.name>\\t\"Blues for Basie\"@en\\t.',\n",
       " '<http://rdf.freebase.com/ns/g.11b88c27pv>\\t<http://rdf.freebase.com/ns/type.object.name>\\t\"T\\'ebrone midis Ts\\'k\\'alzeda\"@ka\\t.',\n",
       " '<http://rdf.freebase.com/ns/g.11b8b1sqht>\\t<http://rdf.freebase.com/ns/type.object.name>\\t\"Fade Away\"@en\\t.',\n",
       " '<http://rdf.freebase.com/ns/g.11b8c3zm3_>\\t<http://rdf.freebase.com/ns/type.object.name>\\t\"Again\"@en\\t.',\n",
       " '<http://rdf.freebase.com/ns/g.11b8c43st0>\\t<http://rdf.freebase.com/ns/type.object.name>\\t\"a.g.o.\"@en\\t.',\n",
       " '<http://rdf.freebase.com/ns/g.11b8c43svl>\\t<http://rdf.freebase.com/ns/type.object.name>\\t\"Envy Us\"@en\\t.',\n",
       " '<http://rdf.freebase.com/ns/g.11b8c4zxmp>\\t<http://rdf.freebase.com/ns/type.object.name>\\t\"What U Don\\'t Know\"@en\\t.',\n",
       " '<http://rdf.freebase.com/ns/g.11b8c5224r>\\t<http://rdf.freebase.com/ns/type.object.name>\\t\"My bełkoczą\"@pl\\t.',\n",
       " '<http://rdf.freebase.com/ns/g.11b8c56tmp>\\t<http://rdf.freebase.com/ns/type.object.name>\\t\"Dead Car\"@en\\t.',\n",
       " '<http://rdf.freebase.com/ns/g.11bbmn1xh5>\\t<http://rdf.freebase.com/ns/type.object.name>\\t\"Esto no se llama amor\"@en\\t.',\n",
       " '<http://rdf.freebase.com/ns/g.11bc16p_b5>\\t<http://rdf.freebase.com/ns/type.object.name>\\t\"Kathryn Frazier\"@fr\\t.',\n",
       " '<http://rdf.freebase.com/ns/g.11bc16p_kb>\\t<http://rdf.freebase.com/ns/type.object.name>\\t\"Antonio Martelli\"@en\\t.',\n",
       " '<http://rdf.freebase.com/ns/g.11bc16rpd6>\\t<http://rdf.freebase.com/ns/type.object.name>\\t\"Ofovwe Imoukhuede\"@en\\t.',\n",
       " '<http://rdf.freebase.com/ns/g.11bc179p90>\\t<http://rdf.freebase.com/ns/type.object.name>\\t\"Jernej Kos\"@cs\\t.',\n",
       " '<http://rdf.freebase.com/ns/g.11bc1ggb3b>\\t<http://rdf.freebase.com/ns/type.object.name>\\t\"Colette Nicollin\"@en\\t.',\n",
       " '<http://rdf.freebase.com/ns/g.11bc94zh07>\\t<http://rdf.freebase.com/ns/people.person.date_of_birth>\\t\"1963\"^^<http://www.w3.org/2001/XMLSchema#gYear>\\t.',\n",
       " '<http://rdf.freebase.com/ns/g.11bcfcjrjd>\\t<http://rdf.freebase.com/ns/type.object.name>\\t\"Picrospora\"@nl\\t.',\n",
       " '<http://rdf.freebase.com/ns/g.11bcfcqlds>\\t<http://rdf.freebase.com/ns/type.object.name>\\t\"Eric Romasanta\"@en\\t.',\n",
       " '<http://rdf.freebase.com/ns/g.11bttqswjy>\\t<http://rdf.freebase.com/ns/type.object.name>\\t\"Meleaba\"@nl\\t.',\n",
       " '<http://rdf.freebase.com/ns/g.11btvl7ldy>\\t<http://rdf.freebase.com/ns/type.object.name>\\t\"Satisfied Mind\"@en\\t.',\n",
       " '<http://rdf.freebase.com/ns/g.11btzw_5pj>\\t<http://rdf.freebase.com/ns/type.object.name>\\t\"Kvintesence\"@en\\t.',\n",
       " '<http://rdf.freebase.com/ns/g.11btzx5f25>\\t<http://rdf.freebase.com/ns/type.object.name>\\t\"Deny ...\"@en\\t.',\n",
       " '<http://rdf.freebase.com/ns/g.11btzx9tyg>\\t<http://rdf.freebase.com/ns/type.object.name>\\t\"Minuut 6\"@en\\t.',\n",
       " '<http://rdf.freebase.com/ns/g.11btzxqzf3>\\t<http://rdf.freebase.com/ns/type.object.name>\\t\"Convey\"@en\\t.',\n",
       " '<http://rdf.freebase.com/ns/g.11bv0f7zrp>\\t<http://rdf.freebase.com/ns/type.object.name>\\t\"Kordun\"@en\\t.',\n",
       " '<http://rdf.freebase.com/ns/g.11bv0x2bsw>\\t<http://rdf.freebase.com/ns/type.object.name>\\t\"Heartless\"@en\\t.',\n",
       " '<http://rdf.freebase.com/ns/g.11bv1lccz0>\\t<http://rdf.freebase.com/ns/type.object.name>\\t\"Zünd den Regen an (Instrumental)\"@de\\t.',\n",
       " '<http://rdf.freebase.com/ns/g.11bv1lcdq7>\\t<http://rdf.freebase.com/ns/type.object.name>\\t\"She Hunts Them in the Afterlife\"@en\\t.',\n",
       " '<http://rdf.freebase.com/ns/g.11bv1ll_0m>\\t<http://rdf.freebase.com/ns/type.object.name>\\t\"I Shall Sing\"@en\\t.',\n",
       " '<http://rdf.freebase.com/ns/g.11bv1llyz8>\\t<http://rdf.freebase.com/ns/type.object.name>\\t\"When I Dream\"@en\\t.',\n",
       " '<http://rdf.freebase.com/ns/g.11bv1m4z_m>\\t<http://rdf.freebase.com/ns/type.object.name>\\t\"Early Summer Nerves\"@en\\t.',\n",
       " '<http://rdf.freebase.com/ns/g.11bv1m8qdb>\\t<http://rdf.freebase.com/ns/type.object.name>\\t\"No No Boy\"@ja\\t.',\n",
       " '<http://rdf.freebase.com/ns/g.11bv1m8rdz>\\t<http://rdf.freebase.com/ns/type.object.name>\\t\"So Cruel\"@en\\t.',\n",
       " '<http://rdf.freebase.com/ns/g.11bv1mbl6j>\\t<http://rdf.freebase.com/ns/type.object.name>\\t\"Disbeliever, Do Not Conceal Disbelief in Your Soul\"@en\\t.',\n",
       " '<http://rdf.freebase.com/ns/g.11bv1mhxpd>\\t<http://rdf.freebase.com/ns/type.object.name>\\t\"Das Land des Lächelns: Akt I. \\\\\"Es wird schon so sein\\\\\" (Lisa, Sou-Chong)\"@de\\t.',\n",
       " '<http://rdf.freebase.com/ns/g.11bv1mtsjh>\\t<http://rdf.freebase.com/ns/type.object.name>\\t\"Terror and Love\"@en\\t.',\n",
       " '<http://rdf.freebase.com/ns/g.11bv1mtsl0>\\t<http://rdf.freebase.com/ns/type.object.name>\\t\"Untitled\"@en\\t.',\n",
       " '<http://rdf.freebase.com/ns/g.11bv1mxpd9>\\t<http://rdf.freebase.com/ns/type.object.name>\\t\"B\"@en\\t.',\n",
       " '<http://rdf.freebase.com/ns/g.11bv1ng374>\\t<http://rdf.freebase.com/ns/type.object.name>\\t\"This Kind of Setup\"@en\\t.',\n",
       " '<http://rdf.freebase.com/ns/g.11bv1pydjg>\\t<http://rdf.freebase.com/ns/type.object.name>\\t\"The Drop/Rubber Duckie Ride (Birds of a Feather)\"@en\\t.',\n",
       " '<http://rdf.freebase.com/ns/g.11bv381x3b>\\t<http://rdf.freebase.com/ns/type.object.name>\\t\"Son son\"@es\\t.',\n",
       " '<http://rdf.freebase.com/ns/g.11bv3861jz>\\t<http://rdf.freebase.com/ns/type.object.name>\\t\"Sitting dreaming\"@es\\t.',\n",
       " '<http://rdf.freebase.com/ns/g.11bv38c076>\\t<http://rdf.freebase.com/ns/type.object.name>\\t\"Con su perfume y su olor\"@es\\t.',\n",
       " '<http://rdf.freebase.com/ns/g.11bv5sqkcm>\\t<http://rdf.freebase.com/ns/type.object.name>\\t\"One Of Our Psychedelic Beakers Is Missing\"@en\\t.',\n",
       " '<http://rdf.freebase.com/ns/g.11byb5wq62>\\t<http://rdf.freebase.com/ns/type.object.name>\\t\"Contracuadro\"@es\\t.',\n",
       " '<http://rdf.freebase.com/ns/g.11byb645j8>\\t<http://rdf.freebase.com/ns/type.object.name>\\t\"Estadio Juan Antonio Álvarez Rabanal\"@es\\t.',\n",
       " '<http://rdf.freebase.com/ns/g.11byb6gn6w>\\t<http://rdf.freebase.com/ns/type.object.name>\\t\"Sujatha Cine Arts\"@en\\t.',\n",
       " '<http://rdf.freebase.com/ns/g.11c3k21jwq>\\t<http://rdf.freebase.com/ns/type.object.name>\\t\"Piano Sonata no. 28 in A major, op. 101: III. Langsam und sehnsuchtsvoll (Adagio, ma non troppo, con affetto)\"@en\\t.',\n",
       " '<http://rdf.freebase.com/ns/g.11c3k21nh9>\\t<http://rdf.freebase.com/ns/type.object.name>\\t\"Klokani\"@cs\\t.']"
      ]
     },
     "execution_count": 19,
     "metadata": {},
     "output_type": "execute_result"
    }
   ],
   "source": [
    "osoby.take(100)"
   ]
  },
  {
   "cell_type": "code",
   "execution_count": 5,
   "metadata": {},
   "outputs": [],
   "source": [
    "#osoby.count()\n",
    "datalist = osoby.collect()"
   ]
  },
  {
   "cell_type": "code",
   "execution_count": 7,
   "metadata": {},
   "outputs": [],
   "source": [
    "with open('people_data3.nt', 'w', encoding=\"utf-8\") as f:\n",
    "    f.writelines(\"%s\\n\" % item for item in datalist)"
   ]
  },
  {
   "cell_type": "code",
   "execution_count": 8,
   "metadata": {},
   "outputs": [],
   "source": [
    "f.close()"
   ]
  },
  {
   "cell_type": "code",
   "execution_count": 9,
   "metadata": {},
   "outputs": [],
   "source": [
    "sparql = SPARQLWrapper(\"http://localhost:3030/freebase/query\")"
   ]
  },
  {
   "cell_type": "code",
   "execution_count": 10,
   "metadata": {},
   "outputs": [
    {
     "name": "stdout",
     "output_type": "stream",
     "text": [
      "Fred Collard\n"
     ]
    }
   ],
   "source": [
    "meno_1 = input()"
   ]
  },
  {
   "cell_type": "code",
   "execution_count": 11,
   "metadata": {},
   "outputs": [
    {
     "name": "stdout",
     "output_type": "stream",
     "text": [
      "William Faulkner\n"
     ]
    }
   ],
   "source": [
    "meno_2 = input()"
   ]
  },
  {
   "cell_type": "code",
   "execution_count": 12,
   "metadata": {},
   "outputs": [
    {
     "name": "stdout",
     "output_type": "stream",
     "text": [
      "Fred Collard   a   William Faulkner\n"
     ]
    }
   ],
   "source": [
    "print(meno_1, \"  a  \", meno_2)"
   ]
  },
  {
   "cell_type": "code",
   "execution_count": 13,
   "metadata": {},
   "outputs": [],
   "source": [
    "def najdi_datumy(meno):\n",
    "    osoba = True\n",
    "    dob = 0\n",
    "    dod = 0\n",
    "    name = 0\n",
    "    sparql.setQuery(\n",
    "    \"\"\"\n",
    "    PREFIX ns: <http://rdf.freebase.com/ns/>\n",
    "    SELECT ?sub ?name (COALESCE(?alias_val, 0) as ?alias) (COALESCE(?birth_val, 0) AS ?birth) (COALESCE(?death_val, 0) as ?death)\n",
    "    WHERE \n",
    "    {\n",
    "       ?sub ns:type.object.name ?name .\n",
    "       OPTIONAL {?sub ns:common.topic.alias ?alias_val} \n",
    "       OPTIONAL {?sub ns:people.person.date_of_birth ?birth_val} \n",
    "       OPTIONAL {?sub ns:people.deceased_person.date_of_death ?death_val} \n",
    "       FILTER (regex(?name, '\"\"\" + meno + \"\"\"' , \"i\") || regex(?alias_val, '\"\"\" + meno + \"\"\"' , \"i\"))\n",
    "    }\n",
    "    \"\"\"\n",
    "    )\n",
    "    sparql.setReturnFormat('json')\n",
    "    \n",
    "    for result in sparql.query().convert()[\"results\"][\"bindings\"]:\n",
    "        #print(result)\n",
    "        name = result[\"name\"][\"value\"]\n",
    "        dob = result[\"birth\"][\"value\"].replace('-','')\n",
    "        dod = result[\"death\"][\"value\"].replace('-','')\n",
    "            \n",
    "        if dob == '0' and dod == '0':\n",
    "            osoba = False\n",
    "            break\n",
    "            \n",
    "        if 0 < int(dob) < 10000:\n",
    "            dob = dob + '0101'  \n",
    "        if 0 < int(dod) < 10000:\n",
    "            dod = dod + '0101'\n",
    "            \n",
    "        if dob == '0':        \n",
    "            dob = str(int(dod) - 1000000)\n",
    "        if dod == '0':\n",
    "            dod = str(int(dob) + 1000000)\n",
    "        \n",
    "        #print(name, dob, dod)\n",
    "        if dob != '0' and dod != '0':\n",
    "            break\n",
    "    \n",
    "    return dob, dod, osoba"
   ]
  },
  {
   "cell_type": "code",
   "execution_count": 14,
   "metadata": {},
   "outputs": [],
   "source": [
    "def porovnanie(dob_1, dod_1, dob_2, dod_2):\n",
    "    if dod_1 >= dob_2 and dob_1 <= dod_2:\n",
    "        return True\n",
    "    return False"
   ]
  },
  {
   "cell_type": "code",
   "execution_count": 15,
   "metadata": {},
   "outputs": [],
   "source": [
    "def mohli_sa_stretnut(meno_1, meno_2):\n",
    "    dob_1, dod_1, osoba_1 = najdi_datumy(meno_1)\n",
    "    \n",
    "    if osoba_1 == True:\n",
    "        print(meno_1, datetime.datetime.strptime(dob_1, '%Y%m%d').date(), \"-\", datetime.datetime.strptime(dod_1, '%Y%m%d').date())\n",
    "    \n",
    "    dob_2, dod_2, osoba_2 = najdi_datumy(meno_2)\n",
    "    \n",
    "    if osoba_2 == True:\n",
    "        print(meno_2, datetime.datetime.strptime(dob_2, '%Y%m%d').date(), \"-\", datetime.datetime.strptime(dod_2, '%Y%m%d').date())\n",
    "    \n",
    "    if osoba_1 == False or osoba_2 == False:\n",
    "        print(\"Jedno alebo obe zadane mena nie su osoby alebo nemaju uvedene datumy narodenia ani umrtia\")\n",
    "    else:\n",
    "        stretnutie = porovnanie(dob_1, dod_1, dob_2, dod_2)\n",
    "\n",
    "        if stretnutie:\n",
    "            print(\"Osoby sa mohli stretnut\")\n",
    "        else:\n",
    "            print(\"Osoby sa nemohli stretnut\")\n"
   ]
  },
  {
   "cell_type": "code",
   "execution_count": 18,
   "metadata": {},
   "outputs": [
    {
     "name": "stdout",
     "output_type": "stream",
     "text": [
      "Fred Collard 1912-06-06 - 1986-12-01\n",
      "William Faulkner 1897-09-25 - 1962-07-06\n",
      "Osoby sa mohli stretnut\n"
     ]
    }
   ],
   "source": [
    "mohli_sa_stretnut(meno_1, meno_2)"
   ]
  },
  {
   "cell_type": "code",
   "execution_count": null,
   "metadata": {},
   "outputs": [],
   "source": []
  }
 ],
 "metadata": {
  "kernelspec": {
   "display_name": "Python 3",
   "language": "python",
   "name": "python3"
  },
  "language_info": {
   "codemirror_mode": {
    "name": "ipython",
    "version": 3
   },
   "file_extension": ".py",
   "mimetype": "text/x-python",
   "name": "python",
   "nbconvert_exporter": "python",
   "pygments_lexer": "ipython3",
   "version": "3.7.3"
  }
 },
 "nbformat": 4,
 "nbformat_minor": 2
}

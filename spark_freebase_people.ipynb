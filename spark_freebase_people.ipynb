{
 "cells": [
  {
   "cell_type": "code",
   "execution_count": 1,
   "metadata": {},
   "outputs": [],
   "source": [
    "import findspark\n",
    "findspark.init()\n",
    "import pyspark\n",
    "import datetime\n",
    "from SPARQLWrapper import SPARQLWrapper, JSON, TURTLE, N3, CSV, XML"
   ]
  },
  {
   "cell_type": "code",
   "execution_count": 2,
   "metadata": {},
   "outputs": [],
   "source": [
    "sc = pyspark.SparkContext(\"local[*]\",appName = \"Freebase_people\")"
   ]
  },
  {
   "cell_type": "code",
   "execution_count": 3,
   "metadata": {},
   "outputs": [],
   "source": [
    "subor = \"freebase-head-1000000\""
   ]
  },
  {
   "cell_type": "code",
   "execution_count": 4,
   "metadata": {},
   "outputs": [],
   "source": [
    "osoby = sc.textFile(subor).filter(lambda x: 'type.object.name' in x or 'common.topic.alias' in x or 'people.person.date_of_birth' in x or 'people.deceased_person.date_of_death' in x).distinct()"
   ]
  },
  {
   "cell_type": "code",
   "execution_count": null,
   "metadata": {},
   "outputs": [],
   "source": [
    "osoby.take(100)"
   ]
  },
  {
   "cell_type": "code",
   "execution_count": null,
   "metadata": {},
   "outputs": [],
   "source": [
    "#osoby.count()\n",
    "datalist = osoby.collect()"
   ]
  },
  {
   "cell_type": "code",
   "execution_count": null,
   "metadata": {},
   "outputs": [],
   "source": [
    "with open('people_data.nt', 'w', encoding=\"utf-8\") as f:\n",
    "    f.writelines(\"%s\\n\" % item for item in datalist)"
   ]
  },
  {
   "cell_type": "code",
   "execution_count": null,
   "metadata": {},
   "outputs": [],
   "source": [
    "f.close()"
   ]
  },
  {
   "cell_type": "code",
   "execution_count": 5,
   "metadata": {},
   "outputs": [],
   "source": [
    "sparql = SPARQLWrapper(\"http://localhost:3030/freebase/query\")"
   ]
  },
  {
   "cell_type": "code",
   "execution_count": 6,
   "metadata": {},
   "outputs": [
    {
     "name": "stdout",
     "output_type": "stream",
     "text": [
      "Hiromi Wada\n"
     ]
    }
   ],
   "source": [
    "meno_1 = input()"
   ]
  },
  {
   "cell_type": "code",
   "execution_count": 8,
   "metadata": {},
   "outputs": [
    {
     "name": "stdout",
     "output_type": "stream",
     "text": [
      "José López-Rey\n"
     ]
    }
   ],
   "source": [
    "meno_2 = input()"
   ]
  },
  {
   "cell_type": "code",
   "execution_count": 9,
   "metadata": {},
   "outputs": [
    {
     "name": "stdout",
     "output_type": "stream",
     "text": [
      "Hiromi Wada   a   José López-Rey\n"
     ]
    }
   ],
   "source": [
    "print(meno_1, \"  a  \", meno_2)"
   ]
  },
  {
   "cell_type": "code",
   "execution_count": 10,
   "metadata": {},
   "outputs": [],
   "source": [
    "def najdi_datumy(meno):\n",
    "    osoba = True\n",
    "    dob = 0\n",
    "    dod = 0\n",
    "    name = 0\n",
    "    sparql.setQuery(\n",
    "    \"\"\"\n",
    "    PREFIX ns: <http://rdf.freebase.com/ns/>\n",
    "    SELECT ?sub ?name (COALESCE(?alias_val, 0) as ?alias) (COALESCE(?birth_val, 0) AS ?birth) (COALESCE(?death_val, 0) as ?death)\n",
    "    WHERE \n",
    "    {\n",
    "       ?sub ns:type.object.name ?name .\n",
    "       OPTIONAL {?sub ns:common.topic.alias ?alias_val} \n",
    "       OPTIONAL {?sub ns:people.person.date_of_birth ?birth_val} \n",
    "       OPTIONAL {?sub ns:people.deceased_person.date_of_death ?death_val} \n",
    "       FILTER (regex(?name, '\"\"\" + meno + \"\"\"' , \"i\") || regex(?alias_val, '\"\"\" + meno + \"\"\"' , \"i\"))\n",
    "    }\n",
    "    \"\"\"\n",
    "    )\n",
    "    sparql.setReturnFormat('json')\n",
    "    \n",
    "    for result in sparql.query().convert()[\"results\"][\"bindings\"]:\n",
    "        #print(result)\n",
    "        name = result[\"name\"][\"value\"]\n",
    "        dob = result[\"birth\"][\"value\"].replace('-','')\n",
    "        dod = result[\"death\"][\"value\"].replace('-','')\n",
    "            \n",
    "        if dob == '0' and dod == '0':\n",
    "            osoba = False\n",
    "            break\n",
    "            \n",
    "        if 0 < int(dob) < 10000:\n",
    "            dob = dob + '0101'  \n",
    "        if 0 < int(dod) < 10000:\n",
    "            dod = dod + '0101'\n",
    "            \n",
    "        if dob == '0':        \n",
    "            dob = str(int(dod) - 1000000)\n",
    "        if dod == '0':\n",
    "            dod = str(int(dob) + 1000000)\n",
    "        \n",
    "        #print(name, dob, dod)\n",
    "        if dob != '0' and dod != '0':\n",
    "            break\n",
    "    \n",
    "    return dob, dod, osoba"
   ]
  },
  {
   "cell_type": "code",
   "execution_count": 11,
   "metadata": {},
   "outputs": [],
   "source": [
    "def porovnanie(dob_1, dod_1, dob_2, dod_2):\n",
    "    if dod_1 >= dob_2 and dob_1 <= dod_2:\n",
    "        return True\n",
    "    return False"
   ]
  },
  {
   "cell_type": "code",
   "execution_count": 12,
   "metadata": {},
   "outputs": [],
   "source": [
    "def mohli_sa_stretnut(meno_1, meno_2):\n",
    "    dob_1, dod_1, osoba_1 = najdi_datumy(meno_1)\n",
    "    \n",
    "    if osoba_1 == True:\n",
    "        print(meno_1, datetime.datetime.strptime(dob_1, '%Y%m%d').date(), \"-\", datetime.datetime.strptime(dod_1, '%Y%m%d').date())\n",
    "    \n",
    "    dob_2, dod_2, osoba_2 = najdi_datumy(meno_2)\n",
    "    \n",
    "    if osoba_2 == True:\n",
    "        print(meno_2, datetime.datetime.strptime(dob_2, '%Y%m%d').date(), \"-\", datetime.datetime.strptime(dod_2, '%Y%m%d').date())\n",
    "    \n",
    "    if osoba_1 == False or osoba_2 == False:\n",
    "        print(\"Jedno alebo obe zadane mena nie su osoby alebo nemaju uvedene datumy narodenia ani umrtia\")\n",
    "    else:\n",
    "        stretnutie = porovnanie(dob_1, dod_1, dob_2, dod_2)\n",
    "\n",
    "        if stretnutie:\n",
    "            print(\"Osoby sa mohli stretnut\")\n",
    "        else:\n",
    "            print(\"Osoby sa nemohli stretnut\")\n"
   ]
  },
  {
   "cell_type": "code",
   "execution_count": 13,
   "metadata": {},
   "outputs": [
    {
     "name": "stdout",
     "output_type": "stream",
     "text": [
      "Hiromi Wada 1988-07-11 - 2088-07-11\n",
      "José López-Rey 1905-01-01 - 1991-01-01\n",
      "Osoby sa mohli stretnut\n"
     ]
    }
   ],
   "source": [
    "mohli_sa_stretnut(meno_1, meno_2)"
   ]
  },
  {
   "cell_type": "code",
   "execution_count": null,
   "metadata": {},
   "outputs": [],
   "source": []
  }
 ],
 "metadata": {
  "kernelspec": {
   "display_name": "Python 3",
   "language": "python",
   "name": "python3"
  },
  "language_info": {
   "codemirror_mode": {
    "name": "ipython",
    "version": 3
   },
   "file_extension": ".py",
   "mimetype": "text/x-python",
   "name": "python",
   "nbconvert_exporter": "python",
   "pygments_lexer": "ipython3",
   "version": "3.7.3"
  }
 },
 "nbformat": 4,
 "nbformat_minor": 2
}
